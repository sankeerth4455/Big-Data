{
  "nbformat": 4,
  "nbformat_minor": 0,
  "metadata": {
    "colab": {
      "provenance": []
    },
    "kernelspec": {
      "name": "python3",
      "display_name": "Python 3"
    },
    "language_info": {
      "name": "python"
    }
  },
  "cells": [
    {
      "cell_type": "code",
      "execution_count": null,
      "metadata": {
        "colab": {
          "base_uri": "https://localhost:8080/"
        },
        "id": "8zWzrdonGrTO",
        "outputId": "05a88d98-6a58-40d2-b370-ac6a6bd992d6"
      },
      "outputs": [
        {
          "output_type": "stream",
          "name": "stdout",
          "text": [
            "Requirement already satisfied: pyspark in /usr/local/lib/python3.10/dist-packages (3.5.3)\n",
            "Requirement already satisfied: py4j==0.10.9.7 in /usr/local/lib/python3.10/dist-packages (from pyspark) (0.10.9.7)\n"
          ]
        }
      ],
      "source": [
        "# Installing Packages\n",
        "!pip install pyspark"
      ]
    },
    {
      "cell_type": "code",
      "source": [
        "# Importing Packages\n",
        "from google.colab import drive\n",
        "from pyspark.sql import SparkSession\n",
        "from pyspark.sql import functions as F\n",
        "from pyspark.sql.types import StringType\n",
        "from pyspark.ml.feature import VectorAssembler\n",
        "from pyspark.ml.regression import RandomForestRegressor\n",
        "from pyspark.ml.evaluation import RegressionEvaluator\n",
        "from pyspark.sql.functions import col\n",
        "import numpy as np\n",
        "from pyspark.ml.stat import Correlation\n",
        "from pyspark.ml.feature import VectorAssembler\n",
        "from pyspark.ml import Estimator\n",
        "from scipy import stats\n",
        "from pyspark.ml.evaluation import ClusteringEvaluator\n",
        "import matplotlib.pyplot as plt\n",
        "from pyspark.ml.clustering import KMeans\n",
        "from pyspark.ml.classification import LogisticRegression\n",
        "from pyspark.ml.evaluation import BinaryClassificationEvaluator, MulticlassClassificationEvaluator\n",
        "from pyspark.ml.feature import StringIndexer, VectorAssembler\n",
        "from pyspark.ml import Pipeline\n",
        "from pyspark.sql.functions import when"
      ],
      "metadata": {
        "id": "bsaO5FuyH7ei"
      },
      "execution_count": null,
      "outputs": []
    },
    {
      "cell_type": "code",
      "source": [
        "# Mounting Drive\n",
        "drive.mount('/content/drive')"
      ],
      "metadata": {
        "colab": {
          "base_uri": "https://localhost:8080/"
        },
        "id": "LROdTrwgH945",
        "outputId": "35d86c0d-e05b-41a2-b7c8-5b89a981b2ef"
      },
      "execution_count": null,
      "outputs": [
        {
          "output_type": "stream",
          "name": "stdout",
          "text": [
            "Drive already mounted at /content/drive; to attempt to forcibly remount, call drive.mount(\"/content/drive\", force_remount=True).\n"
          ]
        }
      ]
    },
    {
      "cell_type": "code",
      "source": [
        "# Creating spark session\n",
        "spark = SparkSession.builder.appName(\"Project_3_part2\").getOrCreate()"
      ],
      "metadata": {
        "id": "JJMEyD7jH_-r"
      },
      "execution_count": null,
      "outputs": []
    },
    {
      "cell_type": "code",
      "source": [
        "# Creating merged_df\n",
        "jan = spark.read.parquet(\"/content/drive/MyDrive/Project 3/yellow_tripdata_2018-01.parquet\")\n",
        "feb = spark.read.parquet(\"/content/drive/MyDrive/Project 3/yellow_tripdata_2018-02.parquet\")\n",
        "mar = spark.read.parquet(\"/content/drive/MyDrive/Project 3/yellow_tripdata_2018-03.parquet\")\n",
        "apr = spark.read.parquet(\"/content/drive/MyDrive/Project 3/yellow_tripdata_2018-04.parquet\")\n",
        "may = spark.read.parquet(\"/content/drive/MyDrive/Project 3/yellow_tripdata_2018-05.parquet\")\n",
        "jun = spark.read.parquet(\"/content/drive/MyDrive/Project 3/yellow_tripdata_2018-06.parquet\")\n",
        "\n",
        "merged_df = jan.union(feb).union(mar).union(apr).union(may).union(jun)\n",
        "merged_df.show(10)"
      ],
      "metadata": {
        "colab": {
          "base_uri": "https://localhost:8080/"
        },
        "id": "AFVTBlPpIDyi",
        "outputId": "eaf540ff-a676-4071-9af4-7d7690c5a4da"
      },
      "execution_count": null,
      "outputs": [
        {
          "output_type": "stream",
          "name": "stdout",
          "text": [
            "+--------+--------------------+---------------------+---------------+-------------+----------+------------------+------------+------------+------------+-----------+-----+-------+----------+------------+---------------------+------------+--------------------+-----------+\n",
            "|VendorID|tpep_pickup_datetime|tpep_dropoff_datetime|passenger_count|trip_distance|RatecodeID|store_and_fwd_flag|PULocationID|DOLocationID|payment_type|fare_amount|extra|mta_tax|tip_amount|tolls_amount|improvement_surcharge|total_amount|congestion_surcharge|airport_fee|\n",
            "+--------+--------------------+---------------------+---------------+-------------+----------+------------------+------------+------------+------------+-----------+-----+-------+----------+------------+---------------------+------------+--------------------+-----------+\n",
            "|       1| 2018-01-01 00:21:05|  2018-01-01 00:24:23|              1|          0.5|         1|                 N|          41|          24|           2|        4.5|  0.5|    0.5|       0.0|         0.0|                  0.3|         5.8|                NULL|       NULL|\n",
            "|       1| 2018-01-01 00:44:55|  2018-01-01 01:03:05|              1|          2.7|         1|                 N|         239|         140|           2|       14.0|  0.5|    0.5|       0.0|         0.0|                  0.3|        15.3|                NULL|       NULL|\n",
            "|       1| 2018-01-01 00:08:26|  2018-01-01 00:14:21|              2|          0.8|         1|                 N|         262|         141|           1|        6.0|  0.5|    0.5|       1.0|         0.0|                  0.3|         8.3|                NULL|       NULL|\n",
            "|       1| 2018-01-01 00:20:22|  2018-01-01 00:52:51|              1|         10.2|         1|                 N|         140|         257|           2|       33.5|  0.5|    0.5|       0.0|         0.0|                  0.3|        34.8|                NULL|       NULL|\n",
            "|       1| 2018-01-01 00:09:18|  2018-01-01 00:27:06|              2|          2.5|         1|                 N|         246|         239|           1|       12.5|  0.5|    0.5|      2.75|         0.0|                  0.3|       16.55|                NULL|       NULL|\n",
            "|       1| 2018-01-01 00:29:29|  2018-01-01 00:32:48|              3|          0.5|         1|                 N|         143|         143|           2|        4.5|  0.5|    0.5|       0.0|         0.0|                  0.3|         5.8|                NULL|       NULL|\n",
            "|       1| 2018-01-01 00:38:08|  2018-01-01 00:48:24|              2|          1.7|         1|                 N|          50|         239|           1|        9.0|  0.5|    0.5|      2.05|         0.0|                  0.3|       12.35|                NULL|       NULL|\n",
            "|       1| 2018-01-01 00:49:29|  2018-01-01 00:51:53|              1|          0.7|         1|                 N|         239|         238|           1|        4.0|  0.5|    0.5|       1.0|         0.0|                  0.3|         6.3|                NULL|       NULL|\n",
            "|       1| 2018-01-01 00:56:38|  2018-01-01 01:01:05|              1|          1.0|         1|                 N|         238|          24|           1|        5.5|  0.5|    0.5|       1.7|         0.0|                  0.3|         8.5|                NULL|       NULL|\n",
            "|       1| 2018-01-01 00:17:04|  2018-01-01 00:22:24|              1|          0.7|         1|                 N|         170|         170|           2|        5.5|  0.5|    0.5|       0.0|         0.0|                  0.3|         6.8|                NULL|       NULL|\n",
            "+--------+--------------------+---------------------+---------------+-------------+----------+------------------+------------+------------+------------+-----------+-----+-------+----------+------------+---------------------+------------+--------------------+-----------+\n",
            "only showing top 10 rows\n",
            "\n"
          ]
        }
      ]
    },
    {
      "cell_type": "markdown",
      "source": [
        "#### 5)Predict the fare of a taxi trip based on borough-specific factors such as pickup and drop-off boroughs, and analyze how fares vary across different NYC boroughs"
      ],
      "metadata": {
        "id": "YYXnsxT9HVEH"
      }
    },
    {
      "cell_type": "code",
      "source": [
        "# Creating a function to get datetime information\n",
        "def datetime_conversion(df, col, prefix):\n",
        "    return df.withColumn(prefix+\"_year\", F.year(col)) \\\n",
        "             .withColumn(prefix+\"_month\", F.month(col)) \\\n",
        "             .withColumn(prefix+\"_day\", F.dayofmonth(col)) \\\n",
        "             .withColumn(prefix+\"_hour\", F.hour(col))\\\n",
        "             .withColumn(prefix+\"_minute\", F.minute(col)) \\\n",
        "             .withColumn(prefix+\"_second\", F.second(col)) \\\n",
        "             .withColumn(prefix+\"_day_of_week\", F.dayofweek(col))"
      ],
      "metadata": {
        "id": "dEVSgj47HVhb"
      },
      "execution_count": null,
      "outputs": []
    },
    {
      "cell_type": "code",
      "source": [
        "# Merging Dataframe\n",
        "borough_mapping = spark.read.csv(\"/content/drive/MyDrive/Project 3/taxi_zone_lookup.csv\", header=True, inferSchema=True)\n",
        "\n",
        "pickup_mapping = borough_mapping.withColumnRenamed(\"LocationID\", \"PULocationID\").withColumnRenamed(\"Borough\", \"pickup_borough\")\n",
        "q5_df = merged_df.join(pickup_mapping.select(\"PULocationID\", \"pickup_borough\"), on=\"PULocationID\", how=\"left\")\n",
        "\n",
        "dropoff_mapping = borough_mapping.withColumnRenamed(\"LocationID\", \"DOLocationID\").withColumnRenamed(\"Borough\", \"dropoff_borough\")\n",
        "q5_df = q5_df.join(dropoff_mapping.select(\"DOLocationID\", \"dropoff_borough\"), on=\"DOLocationID\", how=\"left\")\n",
        "q5_df.show(10)"
      ],
      "metadata": {
        "colab": {
          "base_uri": "https://localhost:8080/"
        },
        "id": "XPojrsX4WrAN",
        "outputId": "92a28f29-a0d9-4e94-8b50-27ca7daa28ac"
      },
      "execution_count": null,
      "outputs": [
        {
          "output_type": "stream",
          "name": "stdout",
          "text": [
            "+------------+------------+--------+--------------------+---------------------+---------------+-------------+----------+------------------+------------+-----------+-----+-------+----------+------------+---------------------+------------+--------------------+-----------+--------------+---------------+\n",
            "|DOLocationID|PULocationID|VendorID|tpep_pickup_datetime|tpep_dropoff_datetime|passenger_count|trip_distance|RatecodeID|store_and_fwd_flag|payment_type|fare_amount|extra|mta_tax|tip_amount|tolls_amount|improvement_surcharge|total_amount|congestion_surcharge|airport_fee|pickup_borough|dropoff_borough|\n",
            "+------------+------------+--------+--------------------+---------------------+---------------+-------------+----------+------------------+------------+-----------+-----+-------+----------+------------+---------------------+------------+--------------------+-----------+--------------+---------------+\n",
            "|          24|          41|       1| 2018-01-01 00:21:05|  2018-01-01 00:24:23|              1|          0.5|         1|                 N|           2|        4.5|  0.5|    0.5|       0.0|         0.0|                  0.3|         5.8|                NULL|       NULL|     Manhattan|      Manhattan|\n",
            "|         140|         239|       1| 2018-01-01 00:44:55|  2018-01-01 01:03:05|              1|          2.7|         1|                 N|           2|       14.0|  0.5|    0.5|       0.0|         0.0|                  0.3|        15.3|                NULL|       NULL|     Manhattan|      Manhattan|\n",
            "|         141|         262|       1| 2018-01-01 00:08:26|  2018-01-01 00:14:21|              2|          0.8|         1|                 N|           1|        6.0|  0.5|    0.5|       1.0|         0.0|                  0.3|         8.3|                NULL|       NULL|     Manhattan|      Manhattan|\n",
            "|         257|         140|       1| 2018-01-01 00:20:22|  2018-01-01 00:52:51|              1|         10.2|         1|                 N|           2|       33.5|  0.5|    0.5|       0.0|         0.0|                  0.3|        34.8|                NULL|       NULL|     Manhattan|       Brooklyn|\n",
            "|         239|         246|       1| 2018-01-01 00:09:18|  2018-01-01 00:27:06|              2|          2.5|         1|                 N|           1|       12.5|  0.5|    0.5|      2.75|         0.0|                  0.3|       16.55|                NULL|       NULL|     Manhattan|      Manhattan|\n",
            "|         143|         143|       1| 2018-01-01 00:29:29|  2018-01-01 00:32:48|              3|          0.5|         1|                 N|           2|        4.5|  0.5|    0.5|       0.0|         0.0|                  0.3|         5.8|                NULL|       NULL|     Manhattan|      Manhattan|\n",
            "|         239|          50|       1| 2018-01-01 00:38:08|  2018-01-01 00:48:24|              2|          1.7|         1|                 N|           1|        9.0|  0.5|    0.5|      2.05|         0.0|                  0.3|       12.35|                NULL|       NULL|     Manhattan|      Manhattan|\n",
            "|         238|         239|       1| 2018-01-01 00:49:29|  2018-01-01 00:51:53|              1|          0.7|         1|                 N|           1|        4.0|  0.5|    0.5|       1.0|         0.0|                  0.3|         6.3|                NULL|       NULL|     Manhattan|      Manhattan|\n",
            "|          24|         238|       1| 2018-01-01 00:56:38|  2018-01-01 01:01:05|              1|          1.0|         1|                 N|           1|        5.5|  0.5|    0.5|       1.7|         0.0|                  0.3|         8.5|                NULL|       NULL|     Manhattan|      Manhattan|\n",
            "|         170|         170|       1| 2018-01-01 00:17:04|  2018-01-01 00:22:24|              1|          0.7|         1|                 N|           2|        5.5|  0.5|    0.5|       0.0|         0.0|                  0.3|         6.8|                NULL|       NULL|     Manhattan|      Manhattan|\n",
            "+------------+------------+--------+--------------------+---------------------+---------------+-------------+----------+------------------+------------+-----------+-----+-------+----------+------------+---------------------+------------+--------------------+-----------+--------------+---------------+\n",
            "only showing top 10 rows\n",
            "\n"
          ]
        }
      ]
    },
    {
      "cell_type": "code",
      "source": [
        "# Updating Dataframe\n",
        "q5_df = datetime_conversion(q5_df, q5_df.tpep_pickup_datetime, \"pickup\")\n",
        "q5_df = q5_df.withColumn(\"trip_duration_seconds\", F.unix_timestamp(\"tpep_dropoff_datetime\") - F.unix_timestamp(\"tpep_pickup_datetime\"))\n",
        "q5_df.show(10)"
      ],
      "metadata": {
        "colab": {
          "base_uri": "https://localhost:8080/"
        },
        "id": "fC-nujz7Wtlj",
        "outputId": "110c173e-8b55-4644-8931-b1e18fc72b24"
      },
      "execution_count": null,
      "outputs": [
        {
          "output_type": "stream",
          "name": "stdout",
          "text": [
            "+------------+------------+--------+--------------------+---------------------+---------------+-------------+----------+------------------+------------+-----------+-----+-------+----------+------------+---------------------+------------+--------------------+-----------+--------------+---------------+-----------+------------+----------+-----------+-------------+-------------+------------------+---------------------+\n",
            "|DOLocationID|PULocationID|VendorID|tpep_pickup_datetime|tpep_dropoff_datetime|passenger_count|trip_distance|RatecodeID|store_and_fwd_flag|payment_type|fare_amount|extra|mta_tax|tip_amount|tolls_amount|improvement_surcharge|total_amount|congestion_surcharge|airport_fee|pickup_borough|dropoff_borough|pickup_year|pickup_month|pickup_day|pickup_hour|pickup_minute|pickup_second|pickup_day_of_week|trip_duration_seconds|\n",
            "+------------+------------+--------+--------------------+---------------------+---------------+-------------+----------+------------------+------------+-----------+-----+-------+----------+------------+---------------------+------------+--------------------+-----------+--------------+---------------+-----------+------------+----------+-----------+-------------+-------------+------------------+---------------------+\n",
            "|          24|          41|       1| 2018-01-01 00:21:05|  2018-01-01 00:24:23|              1|          0.5|         1|                 N|           2|        4.5|  0.5|    0.5|       0.0|         0.0|                  0.3|         5.8|                NULL|       NULL|     Manhattan|      Manhattan|       2018|           1|         1|          0|           21|            5|                 2|                  198|\n",
            "|         140|         239|       1| 2018-01-01 00:44:55|  2018-01-01 01:03:05|              1|          2.7|         1|                 N|           2|       14.0|  0.5|    0.5|       0.0|         0.0|                  0.3|        15.3|                NULL|       NULL|     Manhattan|      Manhattan|       2018|           1|         1|          0|           44|           55|                 2|                 1090|\n",
            "|         141|         262|       1| 2018-01-01 00:08:26|  2018-01-01 00:14:21|              2|          0.8|         1|                 N|           1|        6.0|  0.5|    0.5|       1.0|         0.0|                  0.3|         8.3|                NULL|       NULL|     Manhattan|      Manhattan|       2018|           1|         1|          0|            8|           26|                 2|                  355|\n",
            "|         257|         140|       1| 2018-01-01 00:20:22|  2018-01-01 00:52:51|              1|         10.2|         1|                 N|           2|       33.5|  0.5|    0.5|       0.0|         0.0|                  0.3|        34.8|                NULL|       NULL|     Manhattan|       Brooklyn|       2018|           1|         1|          0|           20|           22|                 2|                 1949|\n",
            "|         239|         246|       1| 2018-01-01 00:09:18|  2018-01-01 00:27:06|              2|          2.5|         1|                 N|           1|       12.5|  0.5|    0.5|      2.75|         0.0|                  0.3|       16.55|                NULL|       NULL|     Manhattan|      Manhattan|       2018|           1|         1|          0|            9|           18|                 2|                 1068|\n",
            "|         143|         143|       1| 2018-01-01 00:29:29|  2018-01-01 00:32:48|              3|          0.5|         1|                 N|           2|        4.5|  0.5|    0.5|       0.0|         0.0|                  0.3|         5.8|                NULL|       NULL|     Manhattan|      Manhattan|       2018|           1|         1|          0|           29|           29|                 2|                  199|\n",
            "|         239|          50|       1| 2018-01-01 00:38:08|  2018-01-01 00:48:24|              2|          1.7|         1|                 N|           1|        9.0|  0.5|    0.5|      2.05|         0.0|                  0.3|       12.35|                NULL|       NULL|     Manhattan|      Manhattan|       2018|           1|         1|          0|           38|            8|                 2|                  616|\n",
            "|         238|         239|       1| 2018-01-01 00:49:29|  2018-01-01 00:51:53|              1|          0.7|         1|                 N|           1|        4.0|  0.5|    0.5|       1.0|         0.0|                  0.3|         6.3|                NULL|       NULL|     Manhattan|      Manhattan|       2018|           1|         1|          0|           49|           29|                 2|                  144|\n",
            "|          24|         238|       1| 2018-01-01 00:56:38|  2018-01-01 01:01:05|              1|          1.0|         1|                 N|           1|        5.5|  0.5|    0.5|       1.7|         0.0|                  0.3|         8.5|                NULL|       NULL|     Manhattan|      Manhattan|       2018|           1|         1|          0|           56|           38|                 2|                  267|\n",
            "|         170|         170|       1| 2018-01-01 00:17:04|  2018-01-01 00:22:24|              1|          0.7|         1|                 N|           2|        5.5|  0.5|    0.5|       0.0|         0.0|                  0.3|         6.8|                NULL|       NULL|     Manhattan|      Manhattan|       2018|           1|         1|          0|           17|            4|                 2|                  320|\n",
            "+------------+------------+--------+--------------------+---------------------+---------------+-------------+----------+------------------+------------+-----------+-----+-------+----------+------------+---------------------+------------+--------------------+-----------+--------------+---------------+-----------+------------+----------+-----------+-------------+-------------+------------------+---------------------+\n",
            "only showing top 10 rows\n",
            "\n"
          ]
        }
      ]
    },
    {
      "cell_type": "code",
      "source": [
        "# Filtering Dataframe\n",
        "q5_df_data = q5_df.select(F.col(\"pickup_month\"), F.col(\"pickup_day_of_week\"), F.col(\"pickup_hour\"),\n",
        "                          F.col(\"pickup_borough\"), F.col(\"dropoff_borough\"), F.col(\"trip_distance\"),\n",
        "                          F.col(\"trip_duration_seconds\"), F.col(\"fare_amount\"))\n",
        "q5_df_data_clean = q5_df_data.dropna()\n",
        "quantiles = q5_df_data_clean.approxQuantile(\"fare_amount\", [0.25, 0.75], 0.05)\n",
        "Q1 = quantiles[0]\n",
        "Q3 = quantiles[1]\n",
        "IQR = Q3 - Q1\n",
        "lower_bound = Q1 - 1.5 * IQR\n",
        "upper_bound = Q3 + 1.5 * IQR\n",
        "q5_df_data_no_outliers = q5_df_data_clean.filter((F.col(\"fare_amount\") >= lower_bound) &\n",
        "                                                 (F.col(\"fare_amount\") <= upper_bound))\n",
        "q5_df_data_final = q5_df_data_no_outliers.filter(F.col(\"fare_amount\") > 0)\n",
        "q5_df_data_final.show(10)"
      ],
      "metadata": {
        "colab": {
          "base_uri": "https://localhost:8080/"
        },
        "id": "JhkzYk0_WwK7",
        "outputId": "65e7bad8-de1d-426c-fdad-bff8913bb9c7"
      },
      "execution_count": null,
      "outputs": [
        {
          "output_type": "stream",
          "name": "stdout",
          "text": [
            "+------------+------------------+-----------+--------------+---------------+-------------+---------------------+-----------+\n",
            "|pickup_month|pickup_day_of_week|pickup_hour|pickup_borough|dropoff_borough|trip_distance|trip_duration_seconds|fare_amount|\n",
            "+------------+------------------+-----------+--------------+---------------+-------------+---------------------+-----------+\n",
            "|           1|                 2|          0|     Manhattan|      Manhattan|          0.5|                  198|        4.5|\n",
            "|           1|                 2|          0|     Manhattan|      Manhattan|          2.7|                 1090|       14.0|\n",
            "|           1|                 2|          0|     Manhattan|      Manhattan|          0.8|                  355|        6.0|\n",
            "|           1|                 2|          0|     Manhattan|      Manhattan|          2.5|                 1068|       12.5|\n",
            "|           1|                 2|          0|     Manhattan|      Manhattan|          0.5|                  199|        4.5|\n",
            "|           1|                 2|          0|     Manhattan|      Manhattan|          1.7|                  616|        9.0|\n",
            "|           1|                 2|          0|     Manhattan|      Manhattan|          0.7|                  144|        4.0|\n",
            "|           1|                 2|          0|     Manhattan|      Manhattan|          1.0|                  267|        5.5|\n",
            "|           1|                 2|          0|     Manhattan|      Manhattan|          0.7|                  320|        5.5|\n",
            "|           1|                 2|          0|     Manhattan|      Manhattan|          0.6|                  346|        5.5|\n",
            "+------------+------------------+-----------+--------------+---------------+-------------+---------------------+-----------+\n",
            "only showing top 10 rows\n",
            "\n"
          ]
        }
      ]
    },
    {
      "cell_type": "code",
      "source": [
        "# Filtering Dataframe\n",
        "pickup_borough_indexer = StringIndexer(inputCol=\"pickup_borough\", outputCol=\"pickup_borough_index\")\n",
        "dropoff_borough_indexer = StringIndexer(inputCol=\"dropoff_borough\", outputCol=\"dropoff_borough_index\")\n",
        "feature_columns_q5 = [\n",
        "    \"pickup_month\", \"pickup_day_of_week\", \"pickup_hour\", \"pickup_borough_index\",\n",
        "    \"dropoff_borough_index\", \"trip_distance\", \"trip_duration_seconds\", \"fare_amount\"\n",
        "]\n",
        "assembler_q5 = VectorAssembler(inputCols=feature_columns_q5, outputCol=\"features\")\n",
        "pipeline = Pipeline(stages=[pickup_borough_indexer, dropoff_borough_indexer, assembler_q5])\n",
        "assembled_data = pipeline.fit(q5_df_data_final).transform(q5_df_data_final)"
      ],
      "metadata": {
        "id": "ityffJhSZ3Z3"
      },
      "execution_count": null,
      "outputs": []
    },
    {
      "cell_type": "code",
      "source": [
        "# Split the data into train and test sets\n",
        "train_data, test_data = assembled_data.randomSplit([0.8, 0.2], seed=310)"
      ],
      "metadata": {
        "id": "b8XHTSbUYWM4"
      },
      "execution_count": null,
      "outputs": []
    },
    {
      "cell_type": "code",
      "source": [
        "# The RandomForestRegressor model\n",
        "rf = RandomForestRegressor(featuresCol=\"features\", labelCol=\"trip_duration_seconds\", numTrees=25, maxDepth=10)\n",
        "rf_model = rf.fit(train_data)"
      ],
      "metadata": {
        "id": "chbQzY84Yg04"
      },
      "execution_count": null,
      "outputs": []
    },
    {
      "cell_type": "code",
      "source": [
        "# Metrics\n",
        "test_predictions = rf_model.transform(test_data)\n",
        "evaluator = RegressionEvaluator(labelCol=\"trip_duration_seconds\", predictionCol=\"prediction\", metricName=\"r2\")\n",
        "test_r2 = evaluator.evaluate(test_predictions)\n",
        "print(f\"Test R2 Error: {test_r2}\")"
      ],
      "metadata": {
        "colab": {
          "base_uri": "https://localhost:8080/"
        },
        "id": "L5IQfCDdYjNV",
        "outputId": "b434ffbf-4e4b-45b0-f9d8-59ff3702027b"
      },
      "execution_count": null,
      "outputs": [
        {
          "output_type": "stream",
          "name": "stdout",
          "text": [
            "Test R2 Error: 0.8759678044447113\n"
          ]
        }
      ]
    },
    {
      "cell_type": "markdown",
      "source": [
        "The code predicts taxi fare based on borough-specific factors such as pickup and drop-off boroughs, trip distance, and duration. It first joins the data with borough information, filters out outliers, and prepares features like borough indices and trip attributes. The model uses a RandomForestRegressor to predict fare amounts. The test results show an R² score of 0.88, indicating that the model can explain 88% of the variance in taxi fares, demonstrating strong predictive performance for fare prediction based on borough-specific and trip-related factors."
      ],
      "metadata": {
        "id": "VQm7oRZjEV_L"
      }
    },
    {
      "cell_type": "markdown",
      "source": [
        "####6)Predict the tip amount given by passengers based on trip characteristics"
      ],
      "metadata": {
        "id": "iVindpnmHV9I"
      }
    },
    {
      "cell_type": "code",
      "source": [
        "# Creating a function to get datetime information\n",
        "def datetime_conversion(df, col, prefix):\n",
        "    return df.withColumn(prefix+\"_year\", F.year(col)) \\\n",
        "             .withColumn(prefix+\"_month\", F.month(col)) \\\n",
        "             .withColumn(prefix+\"_day\", F.dayofmonth(col)) \\\n",
        "             .withColumn(prefix+\"_hour\", F.hour(col))\\\n",
        "             .withColumn(prefix+\"_minute\", F.minute(col)) \\\n",
        "             .withColumn(prefix+\"_second\", F.second(col)) \\\n",
        "             .withColumn(prefix+\"_day_of_week\", F.dayofweek(col))"
      ],
      "metadata": {
        "id": "4LNhGiYyHYhF"
      },
      "execution_count": null,
      "outputs": []
    },
    {
      "cell_type": "code",
      "source": [
        "# Updating Dataframe\n",
        "q6_df = merged_df\n",
        "q6_df = datetime_conversion(q6_df, q6_df.tpep_pickup_datetime, \"pickup\")\n",
        "q6_df = datetime_conversion(q6_df, q6_df.tpep_dropoff_datetime, \"dropoff\")\n",
        "q6_df = q6_df.withColumn(\"trip_duration_seconds\", F.unix_timestamp(\"tpep_dropoff_datetime\") - F.unix_timestamp(\"tpep_pickup_datetime\"))\n",
        "q6_df.show(10)"
      ],
      "metadata": {
        "colab": {
          "base_uri": "https://localhost:8080/"
        },
        "id": "CDkh7E66Kag9",
        "outputId": "465cd1e0-42c5-4a79-a004-ce96764a63a4"
      },
      "execution_count": null,
      "outputs": [
        {
          "output_type": "stream",
          "name": "stdout",
          "text": [
            "+--------+--------------------+---------------------+---------------+-------------+----------+------------------+------------+------------+------------+-----------+-----+-------+----------+------------+---------------------+------------+--------------------+-----------+-----------+------------+----------+-----------+-------------+-------------+------------------+------------+-------------+-----------+------------+--------------+--------------+-------------------+---------------------+\n",
            "|VendorID|tpep_pickup_datetime|tpep_dropoff_datetime|passenger_count|trip_distance|RatecodeID|store_and_fwd_flag|PULocationID|DOLocationID|payment_type|fare_amount|extra|mta_tax|tip_amount|tolls_amount|improvement_surcharge|total_amount|congestion_surcharge|airport_fee|pickup_year|pickup_month|pickup_day|pickup_hour|pickup_minute|pickup_second|pickup_day_of_week|dropoff_year|dropoff_month|dropoff_day|dropoff_hour|dropoff_minute|dropoff_second|dropoff_day_of_week|trip_duration_seconds|\n",
            "+--------+--------------------+---------------------+---------------+-------------+----------+------------------+------------+------------+------------+-----------+-----+-------+----------+------------+---------------------+------------+--------------------+-----------+-----------+------------+----------+-----------+-------------+-------------+------------------+------------+-------------+-----------+------------+--------------+--------------+-------------------+---------------------+\n",
            "|       1| 2018-01-01 00:21:05|  2018-01-01 00:24:23|              1|          0.5|         1|                 N|          41|          24|           2|        4.5|  0.5|    0.5|       0.0|         0.0|                  0.3|         5.8|                NULL|       NULL|       2018|           1|         1|          0|           21|            5|                 2|        2018|            1|          1|           0|            24|            23|                  2|                  198|\n",
            "|       1| 2018-01-01 00:44:55|  2018-01-01 01:03:05|              1|          2.7|         1|                 N|         239|         140|           2|       14.0|  0.5|    0.5|       0.0|         0.0|                  0.3|        15.3|                NULL|       NULL|       2018|           1|         1|          0|           44|           55|                 2|        2018|            1|          1|           1|             3|             5|                  2|                 1090|\n",
            "|       1| 2018-01-01 00:08:26|  2018-01-01 00:14:21|              2|          0.8|         1|                 N|         262|         141|           1|        6.0|  0.5|    0.5|       1.0|         0.0|                  0.3|         8.3|                NULL|       NULL|       2018|           1|         1|          0|            8|           26|                 2|        2018|            1|          1|           0|            14|            21|                  2|                  355|\n",
            "|       1| 2018-01-01 00:20:22|  2018-01-01 00:52:51|              1|         10.2|         1|                 N|         140|         257|           2|       33.5|  0.5|    0.5|       0.0|         0.0|                  0.3|        34.8|                NULL|       NULL|       2018|           1|         1|          0|           20|           22|                 2|        2018|            1|          1|           0|            52|            51|                  2|                 1949|\n",
            "|       1| 2018-01-01 00:09:18|  2018-01-01 00:27:06|              2|          2.5|         1|                 N|         246|         239|           1|       12.5|  0.5|    0.5|      2.75|         0.0|                  0.3|       16.55|                NULL|       NULL|       2018|           1|         1|          0|            9|           18|                 2|        2018|            1|          1|           0|            27|             6|                  2|                 1068|\n",
            "|       1| 2018-01-01 00:29:29|  2018-01-01 00:32:48|              3|          0.5|         1|                 N|         143|         143|           2|        4.5|  0.5|    0.5|       0.0|         0.0|                  0.3|         5.8|                NULL|       NULL|       2018|           1|         1|          0|           29|           29|                 2|        2018|            1|          1|           0|            32|            48|                  2|                  199|\n",
            "|       1| 2018-01-01 00:38:08|  2018-01-01 00:48:24|              2|          1.7|         1|                 N|          50|         239|           1|        9.0|  0.5|    0.5|      2.05|         0.0|                  0.3|       12.35|                NULL|       NULL|       2018|           1|         1|          0|           38|            8|                 2|        2018|            1|          1|           0|            48|            24|                  2|                  616|\n",
            "|       1| 2018-01-01 00:49:29|  2018-01-01 00:51:53|              1|          0.7|         1|                 N|         239|         238|           1|        4.0|  0.5|    0.5|       1.0|         0.0|                  0.3|         6.3|                NULL|       NULL|       2018|           1|         1|          0|           49|           29|                 2|        2018|            1|          1|           0|            51|            53|                  2|                  144|\n",
            "|       1| 2018-01-01 00:56:38|  2018-01-01 01:01:05|              1|          1.0|         1|                 N|         238|          24|           1|        5.5|  0.5|    0.5|       1.7|         0.0|                  0.3|         8.5|                NULL|       NULL|       2018|           1|         1|          0|           56|           38|                 2|        2018|            1|          1|           1|             1|             5|                  2|                  267|\n",
            "|       1| 2018-01-01 00:17:04|  2018-01-01 00:22:24|              1|          0.7|         1|                 N|         170|         170|           2|        5.5|  0.5|    0.5|       0.0|         0.0|                  0.3|         6.8|                NULL|       NULL|       2018|           1|         1|          0|           17|            4|                 2|        2018|            1|          1|           0|            22|            24|                  2|                  320|\n",
            "+--------+--------------------+---------------------+---------------+-------------+----------+------------------+------------+------------+------------+-----------+-----+-------+----------+------------+---------------------+------------+--------------------+-----------+-----------+------------+----------+-----------+-------------+-------------+------------------+------------+-------------+-----------+------------+--------------+--------------+-------------------+---------------------+\n",
            "only showing top 10 rows\n",
            "\n"
          ]
        }
      ]
    },
    {
      "cell_type": "code",
      "source": [
        "# Filtering Dataframe\n",
        "q6_df_data = q6_df.select(F.col(\"trip_distance\"), F.col(\"fare_amount\"), F.col(\"passenger_count\"), F.col(\"trip_duration_seconds\"),\n",
        "                          F.col(\"PULocationID\"), F.col(\"DOLocationID\"), F.col(\"pickup_day_of_week\"), F.col(\"pickup_hour\"),\n",
        "                          F.col(\"dropoff_day_of_week\"), F.col(\"dropoff_hour\"), F.col(\"tip_amount\"))\n",
        "q6_df_data_clean = q6_df_data.dropna()\n",
        "quantiles = q6_df_data_clean.approxQuantile(\"tip_amount\", [0.25, 0.75], 0.05)\n",
        "Q1 = quantiles[0]\n",
        "Q3 = quantiles[1]\n",
        "IQR = Q3 - Q1\n",
        "lower_bound = Q1 - 1.5 * IQR\n",
        "upper_bound = Q3 + 1.5 * IQR\n",
        "q6_df_data_no_outliers = q6_df_data_clean.filter((F.col(\"tip_amount\") >= lower_bound) &\n",
        "                                                 (F.col(\"tip_amount\") <= upper_bound))\n",
        "q6_df_data_final = q6_df_data_no_outliers.filter(F.col(\"tip_amount\") > 0)\n",
        "q6_df_data_final.show(10)"
      ],
      "metadata": {
        "colab": {
          "base_uri": "https://localhost:8080/"
        },
        "id": "45Vjs4xFKfnm",
        "outputId": "6a6834b9-adc1-48d5-c8d0-6bf371ebb842"
      },
      "execution_count": null,
      "outputs": [
        {
          "output_type": "stream",
          "name": "stdout",
          "text": [
            "+-------------+-----------+---------------+---------------------+------------+------------+------------------+-----------+-------------------+------------+----------+\n",
            "|trip_distance|fare_amount|passenger_count|trip_duration_seconds|PULocationID|DOLocationID|pickup_day_of_week|pickup_hour|dropoff_day_of_week|dropoff_hour|tip_amount|\n",
            "+-------------+-----------+---------------+---------------------+------------+------------+------------------+-----------+-------------------+------------+----------+\n",
            "|          0.8|        6.0|              2|                  355|         262|         141|                 2|          0|                  2|           0|       1.0|\n",
            "|          2.5|       12.5|              2|                 1068|         246|         239|                 2|          0|                  2|           0|      2.75|\n",
            "|          1.7|        9.0|              2|                  616|          50|         239|                 2|          0|                  2|           0|      2.05|\n",
            "|          0.7|        4.0|              1|                  144|         239|         238|                 2|          0|                  2|           0|       1.0|\n",
            "|          1.0|        5.5|              1|                  267|         238|          24|                 2|          0|                  2|           1|       1.7|\n",
            "|          0.6|        5.5|              1|                  346|         162|         229|                 2|          0|                  2|           0|      1.35|\n",
            "|          5.7|       19.0|              1|                 1026|          13|         189|                 2|          0|                  2|           0|      4.05|\n",
            "|          0.6|        4.5|              2|                  253|         163|         162|                 2|          0|                  2|           0|       1.7|\n",
            "|         2.93|       14.5|              1|                 1273|          90|         233|                 2|          0|                  2|           0|       2.0|\n",
            "|          3.0|       12.0|              4|                  775|         161|         146|                 2|          0|                  2|           0|      2.65|\n",
            "+-------------+-----------+---------------+---------------------+------------+------------+------------------+-----------+-------------------+------------+----------+\n",
            "only showing top 10 rows\n",
            "\n"
          ]
        }
      ]
    },
    {
      "cell_type": "code",
      "source": [
        "# VectorAssembler\n",
        "feature_columns_q6 = [\n",
        "    \"trip_distance\", \"fare_amount\", \"passenger_count\", \"trip_duration_seconds\", \"PULocationID\",\n",
        "    \"DOLocationID\", \"pickup_day_of_week\", \"pickup_hour\", \"dropoff_day_of_week\", \"dropoff_hour\"\n",
        "]\n",
        "assembler_q6 = VectorAssembler(inputCols=feature_columns_q6, outputCol=\"features\")\n",
        "assembled_data = assembler_q6.transform(q6_df_data_final)"
      ],
      "metadata": {
        "id": "T-5Ya9NhLHLa"
      },
      "execution_count": null,
      "outputs": []
    },
    {
      "cell_type": "code",
      "source": [
        "# Split the data into train and test sets\n",
        "train_data, test_data = assembled_data.randomSplit([0.8, 0.2], seed=310)"
      ],
      "metadata": {
        "id": "HbKPIRbRMK_Z"
      },
      "execution_count": null,
      "outputs": []
    },
    {
      "cell_type": "code",
      "source": [
        "# The RandomForestRegressor model\n",
        "rf = RandomForestRegressor(featuresCol=\"features\", labelCol=\"trip_duration_seconds\", numTrees=25, maxDepth=10)\n",
        "rf_model = rf.fit(train_data)"
      ],
      "metadata": {
        "id": "cg-EQBCiMNOi"
      },
      "execution_count": null,
      "outputs": []
    },
    {
      "cell_type": "code",
      "source": [
        "# Metrics\n",
        "test_predictions = rf_model.transform(test_data)\n",
        "evaluator = RegressionEvaluator(labelCol=\"trip_duration_seconds\", predictionCol=\"prediction\", metricName=\"r2\")\n",
        "test_r2 = evaluator.evaluate(test_predictions)\n",
        "print(f\"Test R2 Error: {test_r2}\")"
      ],
      "metadata": {
        "colab": {
          "base_uri": "https://localhost:8080/"
        },
        "id": "5sh5ALPMMNiY",
        "outputId": "d0436ed8-122e-4801-9842-9f48ce93cadc"
      },
      "execution_count": null,
      "outputs": [
        {
          "output_type": "stream",
          "name": "stdout",
          "text": [
            "Test R2 Error: 0.9726066850576669\n"
          ]
        }
      ]
    },
    {
      "cell_type": "markdown",
      "source": [
        "The code predicts the tip amount based on trip characteristics such as trip distance, fare amount, passenger count, and trip duration. It cleans the data by removing outliers, then prepares features and applies a RandomForestRegressor model to predict the tip amount. The test results show an R² score of 0.97, meaning the model explains 97% of the variation in tip amounts. This high R² score demonstrates that the model is effective at predicting passenger tip amounts based on the provided trip attributes."
      ],
      "metadata": {
        "id": "C9SZuaPvEsKm"
      }
    },
    {
      "cell_type": "markdown",
      "source": [
        "#### 7)Predict whether a trip will result in a high or low fare based on early trip data"
      ],
      "metadata": {
        "id": "PMspKoA8HY-x"
      }
    },
    {
      "cell_type": "code",
      "source": [
        "# Creating a function to get datetime information\n",
        "def datetime_conversion(df, col, prefix):\n",
        "    return df.withColumn(prefix+\"_year\", F.year(col)) \\\n",
        "             .withColumn(prefix+\"_month\", F.month(col)) \\\n",
        "             .withColumn(prefix+\"_day\", F.dayofmonth(col)) \\\n",
        "             .withColumn(prefix+\"_hour\", F.hour(col))\\\n",
        "             .withColumn(prefix+\"_minute\", F.minute(col)) \\\n",
        "             .withColumn(prefix+\"_second\", F.second(col)) \\\n",
        "             .withColumn(prefix+\"_day_of_week\", F.dayofweek(col))"
      ],
      "metadata": {
        "id": "fVq8ju9EHc1w"
      },
      "execution_count": null,
      "outputs": []
    },
    {
      "cell_type": "code",
      "source": [
        "# Updating Dataframe\n",
        "q7_df = merged_df\n",
        "q7_df = datetime_conversion(q7_df, q7_df.tpep_pickup_datetime, \"pickup\")\n",
        "q7_df = datetime_conversion(q7_df, q7_df.tpep_dropoff_datetime, \"dropoff\")\n",
        "q7_df = q7_df.withColumn(\"trip_duration_seconds\", F.unix_timestamp(\"tpep_dropoff_datetime\") - F.unix_timestamp(\"tpep_pickup_datetime\"))\n",
        "avg_fare = q7_df.agg(F.avg(\"fare_amount\")).collect()[0][0]\n",
        "q7_df = q7_df.withColumn(\"fare_classification\",F.when(F.col(\"fare_amount\") > avg_fare, 1).otherwise(2))\n",
        "q7_df.show(10)"
      ],
      "metadata": {
        "colab": {
          "base_uri": "https://localhost:8080/"
        },
        "id": "C7EiEcyfOSD6",
        "outputId": "2b42733e-7889-4339-de84-4728740e7726"
      },
      "execution_count": null,
      "outputs": [
        {
          "output_type": "stream",
          "name": "stdout",
          "text": [
            "+--------+--------------------+---------------------+---------------+-------------+----------+------------------+------------+------------+------------+-----------+-----+-------+----------+------------+---------------------+------------+--------------------+-----------+-----------+------------+----------+-----------+-------------+-------------+------------------+------------+-------------+-----------+------------+--------------+--------------+-------------------+---------------------+-------------------+\n",
            "|VendorID|tpep_pickup_datetime|tpep_dropoff_datetime|passenger_count|trip_distance|RatecodeID|store_and_fwd_flag|PULocationID|DOLocationID|payment_type|fare_amount|extra|mta_tax|tip_amount|tolls_amount|improvement_surcharge|total_amount|congestion_surcharge|airport_fee|pickup_year|pickup_month|pickup_day|pickup_hour|pickup_minute|pickup_second|pickup_day_of_week|dropoff_year|dropoff_month|dropoff_day|dropoff_hour|dropoff_minute|dropoff_second|dropoff_day_of_week|trip_duration_seconds|fare_classification|\n",
            "+--------+--------------------+---------------------+---------------+-------------+----------+------------------+------------+------------+------------+-----------+-----+-------+----------+------------+---------------------+------------+--------------------+-----------+-----------+------------+----------+-----------+-------------+-------------+------------------+------------+-------------+-----------+------------+--------------+--------------+-------------------+---------------------+-------------------+\n",
            "|       1| 2018-01-01 00:21:05|  2018-01-01 00:24:23|              1|          0.5|         1|                 N|          41|          24|           2|        4.5|  0.5|    0.5|       0.0|         0.0|                  0.3|         5.8|                NULL|       NULL|       2018|           1|         1|          0|           21|            5|                 2|        2018|            1|          1|           0|            24|            23|                  2|                  198|                  2|\n",
            "|       1| 2018-01-01 00:44:55|  2018-01-01 01:03:05|              1|          2.7|         1|                 N|         239|         140|           2|       14.0|  0.5|    0.5|       0.0|         0.0|                  0.3|        15.3|                NULL|       NULL|       2018|           1|         1|          0|           44|           55|                 2|        2018|            1|          1|           1|             3|             5|                  2|                 1090|                  1|\n",
            "|       1| 2018-01-01 00:08:26|  2018-01-01 00:14:21|              2|          0.8|         1|                 N|         262|         141|           1|        6.0|  0.5|    0.5|       1.0|         0.0|                  0.3|         8.3|                NULL|       NULL|       2018|           1|         1|          0|            8|           26|                 2|        2018|            1|          1|           0|            14|            21|                  2|                  355|                  2|\n",
            "|       1| 2018-01-01 00:20:22|  2018-01-01 00:52:51|              1|         10.2|         1|                 N|         140|         257|           2|       33.5|  0.5|    0.5|       0.0|         0.0|                  0.3|        34.8|                NULL|       NULL|       2018|           1|         1|          0|           20|           22|                 2|        2018|            1|          1|           0|            52|            51|                  2|                 1949|                  1|\n",
            "|       1| 2018-01-01 00:09:18|  2018-01-01 00:27:06|              2|          2.5|         1|                 N|         246|         239|           1|       12.5|  0.5|    0.5|      2.75|         0.0|                  0.3|       16.55|                NULL|       NULL|       2018|           1|         1|          0|            9|           18|                 2|        2018|            1|          1|           0|            27|             6|                  2|                 1068|                  2|\n",
            "|       1| 2018-01-01 00:29:29|  2018-01-01 00:32:48|              3|          0.5|         1|                 N|         143|         143|           2|        4.5|  0.5|    0.5|       0.0|         0.0|                  0.3|         5.8|                NULL|       NULL|       2018|           1|         1|          0|           29|           29|                 2|        2018|            1|          1|           0|            32|            48|                  2|                  199|                  2|\n",
            "|       1| 2018-01-01 00:38:08|  2018-01-01 00:48:24|              2|          1.7|         1|                 N|          50|         239|           1|        9.0|  0.5|    0.5|      2.05|         0.0|                  0.3|       12.35|                NULL|       NULL|       2018|           1|         1|          0|           38|            8|                 2|        2018|            1|          1|           0|            48|            24|                  2|                  616|                  2|\n",
            "|       1| 2018-01-01 00:49:29|  2018-01-01 00:51:53|              1|          0.7|         1|                 N|         239|         238|           1|        4.0|  0.5|    0.5|       1.0|         0.0|                  0.3|         6.3|                NULL|       NULL|       2018|           1|         1|          0|           49|           29|                 2|        2018|            1|          1|           0|            51|            53|                  2|                  144|                  2|\n",
            "|       1| 2018-01-01 00:56:38|  2018-01-01 01:01:05|              1|          1.0|         1|                 N|         238|          24|           1|        5.5|  0.5|    0.5|       1.7|         0.0|                  0.3|         8.5|                NULL|       NULL|       2018|           1|         1|          0|           56|           38|                 2|        2018|            1|          1|           1|             1|             5|                  2|                  267|                  2|\n",
            "|       1| 2018-01-01 00:17:04|  2018-01-01 00:22:24|              1|          0.7|         1|                 N|         170|         170|           2|        5.5|  0.5|    0.5|       0.0|         0.0|                  0.3|         6.8|                NULL|       NULL|       2018|           1|         1|          0|           17|            4|                 2|        2018|            1|          1|           0|            22|            24|                  2|                  320|                  2|\n",
            "+--------+--------------------+---------------------+---------------+-------------+----------+------------------+------------+------------+------------+-----------+-----+-------+----------+------------+---------------------+------------+--------------------+-----------+-----------+------------+----------+-----------+-------------+-------------+------------------+------------+-------------+-----------+------------+--------------+--------------+-------------------+---------------------+-------------------+\n",
            "only showing top 10 rows\n",
            "\n"
          ]
        }
      ]
    },
    {
      "cell_type": "code",
      "source": [
        "# Filtering Dataframe\n",
        "q7_df_data = q7_df.select(F.col(\"passenger_count\"), F.col(\"PULocationID\"), F.col(\"pickup_day_of_week\"), F.col(\"pickup_hour\"), F.col(\"fare_classification\"))\n",
        "q7_df_data_clean = q7_df_data.dropna()\n",
        "q7_df_data_clean.show(10)"
      ],
      "metadata": {
        "colab": {
          "base_uri": "https://localhost:8080/"
        },
        "id": "iiG6Wc2LO2wB",
        "outputId": "8196ef63-b4a7-4947-e3b9-7417e9378b73"
      },
      "execution_count": null,
      "outputs": [
        {
          "output_type": "stream",
          "name": "stdout",
          "text": [
            "+---------------+------------+------------------+-----------+-------------------+\n",
            "|passenger_count|PULocationID|pickup_day_of_week|pickup_hour|fare_classification|\n",
            "+---------------+------------+------------------+-----------+-------------------+\n",
            "|              1|          41|                 2|          0|                  2|\n",
            "|              1|         239|                 2|          0|                  1|\n",
            "|              2|         262|                 2|          0|                  2|\n",
            "|              1|         140|                 2|          0|                  1|\n",
            "|              2|         246|                 2|          0|                  2|\n",
            "|              3|         143|                 2|          0|                  2|\n",
            "|              2|          50|                 2|          0|                  2|\n",
            "|              1|         239|                 2|          0|                  2|\n",
            "|              1|         238|                 2|          0|                  2|\n",
            "|              1|         170|                 2|          0|                  2|\n",
            "+---------------+------------+------------------+-----------+-------------------+\n",
            "only showing top 10 rows\n",
            "\n"
          ]
        }
      ]
    },
    {
      "cell_type": "code",
      "source": [
        "# VectorAssembler\n",
        "feature_columns_q7 = [\n",
        "    \"passenger_count\", \"PULocationID\", \"pickup_day_of_week\", \"pickup_hour\"\n",
        "]\n",
        "assembler_q7 = VectorAssembler(inputCols=feature_columns_q7, outputCol=\"features\")\n",
        "assembled_data = assembler_q7.transform(q7_df_data_clean)"
      ],
      "metadata": {
        "id": "F3SEpImcQazB"
      },
      "execution_count": null,
      "outputs": []
    },
    {
      "cell_type": "code",
      "source": [
        "# Split the data into train and test sets\n",
        "train_data, test_data = assembled_data.randomSplit([0.8, 0.2], seed=310)"
      ],
      "metadata": {
        "id": "4TmMEeY8QosZ"
      },
      "execution_count": null,
      "outputs": []
    },
    {
      "cell_type": "code",
      "source": [
        "# Logistic regression\n",
        "lr = LogisticRegression(featuresCol=\"features\", labelCol=\"fare_classification\",\n",
        "                        regParam=0.1, elasticNetParam=0.5, maxIter=20)\n",
        "lr_model = lr.fit(train_data)"
      ],
      "metadata": {
        "id": "KNcP9rZIQ2oK"
      },
      "execution_count": null,
      "outputs": []
    },
    {
      "cell_type": "code",
      "source": [
        "# Metrics\n",
        "test_predictions = lr_model.transform(test_data)\n",
        "f1_evaluator = MulticlassClassificationEvaluator(labelCol=\"fare_classification\", predictionCol=\"prediction\", metricName=\"f1\")\n",
        "f1_score = f1_evaluator.evaluate(test_predictions)\n",
        "print(f\"Test F1 Score: {f1_score}\")\n",
        "multi_evaluator = MulticlassClassificationEvaluator(labelCol=\"fare_classification\", predictionCol=\"prediction\", metricName=\"accuracy\")\n",
        "accuracy = multi_evaluator.evaluate(test_predictions)\n",
        "print(f\"Test Accuracy: {accuracy}\")"
      ],
      "metadata": {
        "colab": {
          "base_uri": "https://localhost:8080/"
        },
        "id": "CrL5SwxeQ5tO",
        "outputId": "829ba25b-4b70-4fc7-fbe0-d6238890c02a"
      },
      "execution_count": null,
      "outputs": [
        {
          "output_type": "stream",
          "name": "stdout",
          "text": [
            "Test F1 Score: 0.5743826949933684\n",
            "Test Accuracy: 0.6984029060515309\n"
          ]
        }
      ]
    },
    {
      "cell_type": "markdown",
      "source": [
        "The code predicts whether a taxi trip will result in a high or low fare based on early trip data like passenger count, pickup location, and time. The fare amount is classified into two categories (high or low) based on the average fare. A logistic regression model is then trained to predict fare classification. The test results show an accuracy of 69.8% and an F1 score of 0.57, indicating that the model can moderately classify trips into high or low fare categories based on early trip information."
      ],
      "metadata": {
        "id": "uoDPq7ifFBl4"
      }
    },
    {
      "cell_type": "markdown",
      "source": [
        "#### 8)Identify and predict traffic congestion hotspots based on trip patterns and times"
      ],
      "metadata": {
        "id": "iRYywSNoHdTf"
      }
    },
    {
      "cell_type": "code",
      "source": [
        "# Creating a function to get datetime information\n",
        "def datetime_conversion(df, col, prefix):\n",
        "    return df.withColumn(prefix+\"_year\", F.year(col)) \\\n",
        "             .withColumn(prefix+\"_month\", F.month(col)) \\\n",
        "             .withColumn(prefix+\"_day\", F.dayofmonth(col)) \\\n",
        "             .withColumn(prefix+\"_hour\", F.hour(col))\\\n",
        "             .withColumn(prefix+\"_minute\", F.minute(col)) \\\n",
        "             .withColumn(prefix+\"_second\", F.second(col)) \\\n",
        "             .withColumn(prefix+\"_day_of_week\", F.dayofweek(col))"
      ],
      "metadata": {
        "id": "P7Xk9aZckvpJ"
      },
      "execution_count": null,
      "outputs": []
    },
    {
      "cell_type": "code",
      "source": [
        "# Updating Dataframe\n",
        "q8_df = merged_df\n",
        "q8_df = datetime_conversion(q8_df, q8_df.tpep_pickup_datetime, \"pickup\")\n",
        "q8_df = datetime_conversion(q8_df, q8_df.tpep_dropoff_datetime, \"dropoff\")\n",
        "q8_df = q8_df.withColumn(\"trip_duration_seconds\", F.unix_timestamp(\"tpep_dropoff_datetime\") - F.unix_timestamp(\"tpep_pickup_datetime\"))\n",
        "avg_fare = q8_df.agg(F.avg(\"fare_amount\")).collect()[0][0]\n",
        "q8_df = q8_df.withColumn(\"fare_classification\",F.when(F.col(\"fare_amount\") > avg_fare, 1).otherwise(2))\n",
        "q8_df.show(10)"
      ],
      "metadata": {
        "colab": {
          "base_uri": "https://localhost:8080/"
        },
        "id": "GCb1kaLYk-GZ",
        "outputId": "b803a2f2-522c-46ec-c890-51d4f43bf51c"
      },
      "execution_count": null,
      "outputs": [
        {
          "output_type": "stream",
          "name": "stdout",
          "text": [
            "+--------+--------------------+---------------------+---------------+-------------+----------+------------------+------------+------------+------------+-----------+-----+-------+----------+------------+---------------------+------------+--------------------+-----------+-----------+------------+----------+-----------+-------------+-------------+------------------+------------+-------------+-----------+------------+--------------+--------------+-------------------+---------------------+-------------------+\n",
            "|VendorID|tpep_pickup_datetime|tpep_dropoff_datetime|passenger_count|trip_distance|RatecodeID|store_and_fwd_flag|PULocationID|DOLocationID|payment_type|fare_amount|extra|mta_tax|tip_amount|tolls_amount|improvement_surcharge|total_amount|congestion_surcharge|airport_fee|pickup_year|pickup_month|pickup_day|pickup_hour|pickup_minute|pickup_second|pickup_day_of_week|dropoff_year|dropoff_month|dropoff_day|dropoff_hour|dropoff_minute|dropoff_second|dropoff_day_of_week|trip_duration_seconds|fare_classification|\n",
            "+--------+--------------------+---------------------+---------------+-------------+----------+------------------+------------+------------+------------+-----------+-----+-------+----------+------------+---------------------+------------+--------------------+-----------+-----------+------------+----------+-----------+-------------+-------------+------------------+------------+-------------+-----------+------------+--------------+--------------+-------------------+---------------------+-------------------+\n",
            "|       1| 2018-01-01 00:21:05|  2018-01-01 00:24:23|              1|          0.5|         1|                 N|          41|          24|           2|        4.5|  0.5|    0.5|       0.0|         0.0|                  0.3|         5.8|                NULL|       NULL|       2018|           1|         1|          0|           21|            5|                 2|        2018|            1|          1|           0|            24|            23|                  2|                  198|                  2|\n",
            "|       1| 2018-01-01 00:44:55|  2018-01-01 01:03:05|              1|          2.7|         1|                 N|         239|         140|           2|       14.0|  0.5|    0.5|       0.0|         0.0|                  0.3|        15.3|                NULL|       NULL|       2018|           1|         1|          0|           44|           55|                 2|        2018|            1|          1|           1|             3|             5|                  2|                 1090|                  1|\n",
            "|       1| 2018-01-01 00:08:26|  2018-01-01 00:14:21|              2|          0.8|         1|                 N|         262|         141|           1|        6.0|  0.5|    0.5|       1.0|         0.0|                  0.3|         8.3|                NULL|       NULL|       2018|           1|         1|          0|            8|           26|                 2|        2018|            1|          1|           0|            14|            21|                  2|                  355|                  2|\n",
            "|       1| 2018-01-01 00:20:22|  2018-01-01 00:52:51|              1|         10.2|         1|                 N|         140|         257|           2|       33.5|  0.5|    0.5|       0.0|         0.0|                  0.3|        34.8|                NULL|       NULL|       2018|           1|         1|          0|           20|           22|                 2|        2018|            1|          1|           0|            52|            51|                  2|                 1949|                  1|\n",
            "|       1| 2018-01-01 00:09:18|  2018-01-01 00:27:06|              2|          2.5|         1|                 N|         246|         239|           1|       12.5|  0.5|    0.5|      2.75|         0.0|                  0.3|       16.55|                NULL|       NULL|       2018|           1|         1|          0|            9|           18|                 2|        2018|            1|          1|           0|            27|             6|                  2|                 1068|                  2|\n",
            "|       1| 2018-01-01 00:29:29|  2018-01-01 00:32:48|              3|          0.5|         1|                 N|         143|         143|           2|        4.5|  0.5|    0.5|       0.0|         0.0|                  0.3|         5.8|                NULL|       NULL|       2018|           1|         1|          0|           29|           29|                 2|        2018|            1|          1|           0|            32|            48|                  2|                  199|                  2|\n",
            "|       1| 2018-01-01 00:38:08|  2018-01-01 00:48:24|              2|          1.7|         1|                 N|          50|         239|           1|        9.0|  0.5|    0.5|      2.05|         0.0|                  0.3|       12.35|                NULL|       NULL|       2018|           1|         1|          0|           38|            8|                 2|        2018|            1|          1|           0|            48|            24|                  2|                  616|                  2|\n",
            "|       1| 2018-01-01 00:49:29|  2018-01-01 00:51:53|              1|          0.7|         1|                 N|         239|         238|           1|        4.0|  0.5|    0.5|       1.0|         0.0|                  0.3|         6.3|                NULL|       NULL|       2018|           1|         1|          0|           49|           29|                 2|        2018|            1|          1|           0|            51|            53|                  2|                  144|                  2|\n",
            "|       1| 2018-01-01 00:56:38|  2018-01-01 01:01:05|              1|          1.0|         1|                 N|         238|          24|           1|        5.5|  0.5|    0.5|       1.7|         0.0|                  0.3|         8.5|                NULL|       NULL|       2018|           1|         1|          0|           56|           38|                 2|        2018|            1|          1|           1|             1|             5|                  2|                  267|                  2|\n",
            "|       1| 2018-01-01 00:17:04|  2018-01-01 00:22:24|              1|          0.7|         1|                 N|         170|         170|           2|        5.5|  0.5|    0.5|       0.0|         0.0|                  0.3|         6.8|                NULL|       NULL|       2018|           1|         1|          0|           17|            4|                 2|        2018|            1|          1|           0|            22|            24|                  2|                  320|                  2|\n",
            "+--------+--------------------+---------------------+---------------+-------------+----------+------------------+------------+------------+------------+-----------+-----+-------+----------+------------+---------------------+------------+--------------------+-----------+-----------+------------+----------+-----------+-------------+-------------+------------------+------------+-------------+-----------+------------+--------------+--------------+-------------------+---------------------+-------------------+\n",
            "only showing top 10 rows\n",
            "\n"
          ]
        }
      ]
    },
    {
      "cell_type": "code",
      "source": [
        "# Updating Dataframe\n",
        "q8_df = q8_df.withColumn(\"congestion_indicator\", when(col(\"congestion_surcharge\").isNull(), 0).otherwise(1))\n",
        "q8_df.show(10)"
      ],
      "metadata": {
        "colab": {
          "base_uri": "https://localhost:8080/"
        },
        "id": "Fg2CHhAemjzx",
        "outputId": "8d66ee9a-7856-4b91-d084-7a9fd0990deb"
      },
      "execution_count": null,
      "outputs": [
        {
          "output_type": "stream",
          "name": "stdout",
          "text": [
            "+--------+--------------------+---------------------+---------------+-------------+----------+------------------+------------+------------+------------+-----------+-----+-------+----------+------------+---------------------+------------+--------------------+-----------+-----------+------------+----------+-----------+-------------+-------------+------------------+------------+-------------+-----------+------------+--------------+--------------+-------------------+---------------------+-------------------+--------------------+\n",
            "|VendorID|tpep_pickup_datetime|tpep_dropoff_datetime|passenger_count|trip_distance|RatecodeID|store_and_fwd_flag|PULocationID|DOLocationID|payment_type|fare_amount|extra|mta_tax|tip_amount|tolls_amount|improvement_surcharge|total_amount|congestion_surcharge|airport_fee|pickup_year|pickup_month|pickup_day|pickup_hour|pickup_minute|pickup_second|pickup_day_of_week|dropoff_year|dropoff_month|dropoff_day|dropoff_hour|dropoff_minute|dropoff_second|dropoff_day_of_week|trip_duration_seconds|fare_classification|congestion_indicator|\n",
            "+--------+--------------------+---------------------+---------------+-------------+----------+------------------+------------+------------+------------+-----------+-----+-------+----------+------------+---------------------+------------+--------------------+-----------+-----------+------------+----------+-----------+-------------+-------------+------------------+------------+-------------+-----------+------------+--------------+--------------+-------------------+---------------------+-------------------+--------------------+\n",
            "|       1| 2018-01-01 00:21:05|  2018-01-01 00:24:23|              1|          0.5|         1|                 N|          41|          24|           2|        4.5|  0.5|    0.5|       0.0|         0.0|                  0.3|         5.8|                NULL|       NULL|       2018|           1|         1|          0|           21|            5|                 2|        2018|            1|          1|           0|            24|            23|                  2|                  198|                  2|                   0|\n",
            "|       1| 2018-01-01 00:44:55|  2018-01-01 01:03:05|              1|          2.7|         1|                 N|         239|         140|           2|       14.0|  0.5|    0.5|       0.0|         0.0|                  0.3|        15.3|                NULL|       NULL|       2018|           1|         1|          0|           44|           55|                 2|        2018|            1|          1|           1|             3|             5|                  2|                 1090|                  1|                   0|\n",
            "|       1| 2018-01-01 00:08:26|  2018-01-01 00:14:21|              2|          0.8|         1|                 N|         262|         141|           1|        6.0|  0.5|    0.5|       1.0|         0.0|                  0.3|         8.3|                NULL|       NULL|       2018|           1|         1|          0|            8|           26|                 2|        2018|            1|          1|           0|            14|            21|                  2|                  355|                  2|                   0|\n",
            "|       1| 2018-01-01 00:20:22|  2018-01-01 00:52:51|              1|         10.2|         1|                 N|         140|         257|           2|       33.5|  0.5|    0.5|       0.0|         0.0|                  0.3|        34.8|                NULL|       NULL|       2018|           1|         1|          0|           20|           22|                 2|        2018|            1|          1|           0|            52|            51|                  2|                 1949|                  1|                   0|\n",
            "|       1| 2018-01-01 00:09:18|  2018-01-01 00:27:06|              2|          2.5|         1|                 N|         246|         239|           1|       12.5|  0.5|    0.5|      2.75|         0.0|                  0.3|       16.55|                NULL|       NULL|       2018|           1|         1|          0|            9|           18|                 2|        2018|            1|          1|           0|            27|             6|                  2|                 1068|                  2|                   0|\n",
            "|       1| 2018-01-01 00:29:29|  2018-01-01 00:32:48|              3|          0.5|         1|                 N|         143|         143|           2|        4.5|  0.5|    0.5|       0.0|         0.0|                  0.3|         5.8|                NULL|       NULL|       2018|           1|         1|          0|           29|           29|                 2|        2018|            1|          1|           0|            32|            48|                  2|                  199|                  2|                   0|\n",
            "|       1| 2018-01-01 00:38:08|  2018-01-01 00:48:24|              2|          1.7|         1|                 N|          50|         239|           1|        9.0|  0.5|    0.5|      2.05|         0.0|                  0.3|       12.35|                NULL|       NULL|       2018|           1|         1|          0|           38|            8|                 2|        2018|            1|          1|           0|            48|            24|                  2|                  616|                  2|                   0|\n",
            "|       1| 2018-01-01 00:49:29|  2018-01-01 00:51:53|              1|          0.7|         1|                 N|         239|         238|           1|        4.0|  0.5|    0.5|       1.0|         0.0|                  0.3|         6.3|                NULL|       NULL|       2018|           1|         1|          0|           49|           29|                 2|        2018|            1|          1|           0|            51|            53|                  2|                  144|                  2|                   0|\n",
            "|       1| 2018-01-01 00:56:38|  2018-01-01 01:01:05|              1|          1.0|         1|                 N|         238|          24|           1|        5.5|  0.5|    0.5|       1.7|         0.0|                  0.3|         8.5|                NULL|       NULL|       2018|           1|         1|          0|           56|           38|                 2|        2018|            1|          1|           1|             1|             5|                  2|                  267|                  2|                   0|\n",
            "|       1| 2018-01-01 00:17:04|  2018-01-01 00:22:24|              1|          0.7|         1|                 N|         170|         170|           2|        5.5|  0.5|    0.5|       0.0|         0.0|                  0.3|         6.8|                NULL|       NULL|       2018|           1|         1|          0|           17|            4|                 2|        2018|            1|          1|           0|            22|            24|                  2|                  320|                  2|                   0|\n",
            "+--------+--------------------+---------------------+---------------+-------------+----------+------------------+------------+------------+------------+-----------+-----+-------+----------+------------+---------------------+------------+--------------------+-----------+-----------+------------+----------+-----------+-------------+-------------+------------------+------------+-------------+-----------+------------+--------------+--------------+-------------------+---------------------+-------------------+--------------------+\n",
            "only showing top 10 rows\n",
            "\n"
          ]
        }
      ]
    },
    {
      "cell_type": "code",
      "source": [
        "# Filtering Dataframe\n",
        "q8_df_data = q8_df.select(F.col(\"passenger_count\"), F.col(\"trip_distance\"), F.col(\"PULocationID\"), F.col(\"DOLocationID\"),\n",
        "                          F.col(\"fare_amount\"), F.col(\"pickup_day_of_week\"), F.col(\"pickup_hour\"),F.col(\"congestion_indicator\"))\n",
        "q8_df_data_clean = q8_df_data.dropna()\n",
        "q8_df_data_clean.show(10)"
      ],
      "metadata": {
        "colab": {
          "base_uri": "https://localhost:8080/"
        },
        "id": "kE5mgmX9lYUF",
        "outputId": "e3491514-4037-4688-9b09-50f25de8da05"
      },
      "execution_count": null,
      "outputs": [
        {
          "output_type": "stream",
          "name": "stdout",
          "text": [
            "+---------------+-------------+------------+------------+-----------+------------------+-----------+--------------------+\n",
            "|passenger_count|trip_distance|PULocationID|DOLocationID|fare_amount|pickup_day_of_week|pickup_hour|congestion_indicator|\n",
            "+---------------+-------------+------------+------------+-----------+------------------+-----------+--------------------+\n",
            "|              1|          0.5|          41|          24|        4.5|                 2|          0|                   0|\n",
            "|              1|          2.7|         239|         140|       14.0|                 2|          0|                   0|\n",
            "|              2|          0.8|         262|         141|        6.0|                 2|          0|                   0|\n",
            "|              1|         10.2|         140|         257|       33.5|                 2|          0|                   0|\n",
            "|              2|          2.5|         246|         239|       12.5|                 2|          0|                   0|\n",
            "|              3|          0.5|         143|         143|        4.5|                 2|          0|                   0|\n",
            "|              2|          1.7|          50|         239|        9.0|                 2|          0|                   0|\n",
            "|              1|          0.7|         239|         238|        4.0|                 2|          0|                   0|\n",
            "|              1|          1.0|         238|          24|        5.5|                 2|          0|                   0|\n",
            "|              1|          0.7|         170|         170|        5.5|                 2|          0|                   0|\n",
            "+---------------+-------------+------------+------------+-----------+------------------+-----------+--------------------+\n",
            "only showing top 10 rows\n",
            "\n"
          ]
        }
      ]
    },
    {
      "cell_type": "code",
      "source": [
        "# VectorAssembler\n",
        "feature_columns_q8 = [\n",
        "    \"passenger_count\", \"trip_distance\", \"PULocationID\", \"DOLocationID\",\n",
        "    \"fare_amount\", \"pickup_day_of_week\", \"pickup_hour\"\n",
        "]\n",
        "assembler_q8 = VectorAssembler(inputCols=feature_columns_q8, outputCol=\"features\")\n",
        "assembled_data = assembler_q8.transform(q8_df_data_clean)"
      ],
      "metadata": {
        "id": "VGicz0S4ldLk"
      },
      "execution_count": null,
      "outputs": []
    },
    {
      "cell_type": "code",
      "source": [
        "# Split the data into train and test sets\n",
        "train_data, test_data = assembled_data.randomSplit([0.8, 0.2], seed=310)"
      ],
      "metadata": {
        "id": "iKnGQXXroUct"
      },
      "execution_count": null,
      "outputs": []
    },
    {
      "cell_type": "code",
      "source": [
        "# Logistic regression\n",
        "lr = LogisticRegression(featuresCol=\"features\", labelCol=\"congestion_indicator\",\n",
        "                        regParam=0.1, elasticNetParam=0.5, maxIter=20)\n",
        "lr_model = lr.fit(train_data)"
      ],
      "metadata": {
        "id": "7etbQjW4oeBu"
      },
      "execution_count": null,
      "outputs": []
    },
    {
      "cell_type": "code",
      "source": [
        "# Metrics\n",
        "test_predictions = lr_model.transform(test_data)\n",
        "f1_evaluator = MulticlassClassificationEvaluator(labelCol=\"congestion_indicator\", predictionCol=\"prediction\", metricName=\"f1\")\n",
        "f1_score = f1_evaluator.evaluate(test_predictions)\n",
        "print(f\"Test F1 Score: {f1_score}\")\n",
        "multi_evaluator = MulticlassClassificationEvaluator(labelCol=\"congestion_indicator\", predictionCol=\"prediction\", metricName=\"accuracy\")\n",
        "accuracy = multi_evaluator.evaluate(test_predictions)\n",
        "print(f\"Test Accuracy: {accuracy}\")"
      ],
      "metadata": {
        "colab": {
          "base_uri": "https://localhost:8080/"
        },
        "id": "Q-kyHSXwoeud",
        "outputId": "7bd75469-2f91-4b4e-b058-532d54e53e29"
      },
      "execution_count": null,
      "outputs": [
        {
          "output_type": "stream",
          "name": "stdout",
          "text": [
            "Test F1 Score: 0.9999998609917207\n",
            "Test Accuracy: 0.9999999073278123\n"
          ]
        }
      ]
    },
    {
      "cell_type": "markdown",
      "source": [
        "The code predicts traffic congestion hotspots based on trip patterns and times by creating a congestion indicator variable based on the presence of a congestion surcharge. The model uses features like passenger count, trip distance, pickup location, fare amount, and time of day to predict congestion. A logistic regression model is trained, and the results show a near-perfect F1 score (0.9999) and accuracy (0.9999), indicating that the model effectively identifies areas with high traffic congestion based on the available trip data."
      ],
      "metadata": {
        "id": "nWDa4ztnFb9y"
      }
    }
  ]
}